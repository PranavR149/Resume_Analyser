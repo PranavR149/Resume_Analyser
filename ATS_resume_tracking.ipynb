{
 "cells": [
  {
   "cell_type": "code",
   "execution_count": null,
   "id": "87e41f0f",
   "metadata": {},
   "outputs": [],
   "source": [
    "import streamlit as st\n",
    "import google.generativeai as genai\n",
    "import os\n",
    "import PyPDF2 as pdf\n",
    "from dotenv import load_dotenv\n",
    "import json"
   ]
  },
  {
   "cell_type": "code",
   "execution_count": null,
   "id": "7fa20fec",
   "metadata": {},
   "outputs": [],
   "source": [
    "load_dotenv() ## load all our environment variables"
   ]
  },
  {
   "cell_type": "code",
   "execution_count": null,
   "id": "9f6f14b4",
   "metadata": {},
   "outputs": [],
   "source": [
    "genai.configure(api_key=os.getenv(\"GOOGLE_API_KEY\"))"
   ]
  },
  {
   "cell_type": "code",
   "execution_count": null,
   "id": "40dacb78",
   "metadata": {},
   "outputs": [],
   "source": [
    "def get_gemini_repsonse(input):\n",
    "    model=genai.GenerativeModel('gemini-pro')\n",
    "    response=model.generate_content(input)\n",
    "    return response.text"
   ]
  },
  {
   "cell_type": "code",
   "execution_count": null,
   "id": "ef3db7ab",
   "metadata": {},
   "outputs": [],
   "source": [
    "def input_pdf_text(uploaded_file):\n",
    "    reader=pdf.PdfReader(uploaded_file)\n",
    "    text=\"\"\n",
    "    for page in range(len(reader.pages)):\n",
    "        page=reader.pages[page]\n",
    "        text+=str(page.extract_text())\n",
    "    return text"
   ]
  },
  {
   "cell_type": "code",
   "execution_count": null,
   "id": "cc7443f4",
   "metadata": {},
   "outputs": [],
   "source": [
    "# #Prompt Template\n",
    "# input_prompt=\"\"\"\n",
    "# Hey Act Like a skilled or very experience ATS(Application Tracking System)\n",
    "# with a deep understanding of tech field,software engineering,data science ,data analyst\n",
    "# and big data engineer. Your task is to evaluate the resume based on the given job description.\n",
    "# You must consider the job market is very competitive and you should provide \n",
    "# best assistance for improving thr resumes. Assign the percentage Matching based \n",
    "# on Jd and\n",
    "# the missing keywords with high accuracy\n",
    "# resume:{text}\n",
    "# description:{jd}\n",
    "\n",
    "# I want the response in one single string having the structure\n",
    "# {{\"JD Match\":\"%\",\"MissingKeywords:[]\",\"Profile Summary\":\"\"}}\n",
    "# \"\"\""
   ]
  },
  {
   "cell_type": "code",
   "execution_count": null,
   "id": "9afbb07c",
   "metadata": {},
   "outputs": [],
   "source": [
    "#Prompt Template\n",
    "input_prompt=\"\"\"\n",
    "Act Like a skilled or very experience ATS(Application Tracking System)\n",
    "with a deep understanding of tech fields like software engineering, data science, data analyst\n",
    "and machine learning engineer. Your task is to evaluate the uploaded resume based on the given job description.\n",
    "You must consider the job market is very competitive and you should provide \n",
    "best assistance for improving resumes. Assign the percentage matching based on Jd and the missing keywords \n",
    "with high accuracy\n",
    "resume:{text}\n",
    "description:{jd}\n",
    "\n",
    "I want the response in one single string having the structure\n",
    "{{\"JD Match\":\"%\",\n",
    "\"MissingKeywords:[]\",\n",
    "\"Profile Summary\":\"\"}}\n",
    "\"\"\""
   ]
  },
  {
   "cell_type": "code",
   "execution_count": null,
   "id": "b1f024f2",
   "metadata": {},
   "outputs": [],
   "source": [
    "## streamlit app\n",
    "st.title(\"Resume Scanner\")\n",
    "st.text(\"Improve your resume before you apply!\")\n",
    "jd=st.text_area(\"Paste the Job Description below\")\n",
    "uploaded_file=st.file_uploader(\"Upload Your Resume\",type=\"pdf\",help=\"Please uplaod the pdf\")\n",
    "\n",
    "submit = st.button(\"Submit\")\n",
    "\n",
    "if submit:\n",
    "    if uploaded_file is not None:\n",
    "        text=input_pdf_text(uploaded_file)\n",
    "        response=get_gemini_repsonse(input_prompt)\n",
    "        st.subheader(response)"
   ]
  }
 ],
 "metadata": {
  "kernelspec": {
   "display_name": "Python 3 (ipykernel)",
   "language": "python",
   "name": "python3"
  },
  "language_info": {
   "codemirror_mode": {
    "name": "ipython",
    "version": 3
   },
   "file_extension": ".py",
   "mimetype": "text/x-python",
   "name": "python",
   "nbconvert_exporter": "python",
   "pygments_lexer": "ipython3",
   "version": "3.11.4"
  }
 },
 "nbformat": 4,
 "nbformat_minor": 5
}
